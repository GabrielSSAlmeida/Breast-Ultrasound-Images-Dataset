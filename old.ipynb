{
 "cells": [
  {
   "cell_type": "markdown",
   "id": "6821a0ed",
   "metadata": {},
   "source": [
    "# 🧠 Classificação e Segmentação de Imagens de Ultrassom da Mama\n",
    "Usando VGG-16 (classificação) e U-Net (segmentação) com o dataset do Kaggle."
   ]
  },
  {
   "cell_type": "code",
   "execution_count": 4,
   "id": "ae53d124",
   "metadata": {},
   "outputs": [
    {
     "name": "stdout",
     "output_type": "stream",
     "text": [
      "Requirement already satisfied: tensorflow in c:\\users\\gabri\\documents\\usp\\7-sem\\procimagem\\procimagemenv\\lib\\site-packages (2.19.0)\n",
      "Requirement already satisfied: opencv-python in c:\\users\\gabri\\documents\\usp\\7-sem\\procimagem\\procimagemenv\\lib\\site-packages (4.11.0.86)\n",
      "Requirement already satisfied: scikit-learn in c:\\users\\gabri\\documents\\usp\\7-sem\\procimagem\\procimagemenv\\lib\\site-packages (1.7.0)\n",
      "Requirement already satisfied: matplotlib in c:\\users\\gabri\\documents\\usp\\7-sem\\procimagem\\procimagemenv\\lib\\site-packages (3.10.1)\n",
      "Collecting kaggle\n",
      "  Downloading kaggle-1.7.4.5-py3-none-any.whl.metadata (16 kB)\n",
      "Requirement already satisfied: absl-py>=1.0.0 in c:\\users\\gabri\\documents\\usp\\7-sem\\procimagem\\procimagemenv\\lib\\site-packages (from tensorflow) (2.3.0)\n",
      "Requirement already satisfied: astunparse>=1.6.0 in c:\\users\\gabri\\documents\\usp\\7-sem\\procimagem\\procimagemenv\\lib\\site-packages (from tensorflow) (1.6.3)\n",
      "Requirement already satisfied: flatbuffers>=24.3.25 in c:\\users\\gabri\\documents\\usp\\7-sem\\procimagem\\procimagemenv\\lib\\site-packages (from tensorflow) (25.2.10)\n",
      "Requirement already satisfied: gast!=0.5.0,!=0.5.1,!=0.5.2,>=0.2.1 in c:\\users\\gabri\\documents\\usp\\7-sem\\procimagem\\procimagemenv\\lib\\site-packages (from tensorflow) (0.6.0)\n",
      "Requirement already satisfied: google-pasta>=0.1.1 in c:\\users\\gabri\\documents\\usp\\7-sem\\procimagem\\procimagemenv\\lib\\site-packages (from tensorflow) (0.2.0)\n",
      "Requirement already satisfied: libclang>=13.0.0 in c:\\users\\gabri\\documents\\usp\\7-sem\\procimagem\\procimagemenv\\lib\\site-packages (from tensorflow) (18.1.1)\n",
      "Requirement already satisfied: opt-einsum>=2.3.2 in c:\\users\\gabri\\documents\\usp\\7-sem\\procimagem\\procimagemenv\\lib\\site-packages (from tensorflow) (3.4.0)\n",
      "Requirement already satisfied: packaging in c:\\users\\gabri\\documents\\usp\\7-sem\\procimagem\\procimagemenv\\lib\\site-packages (from tensorflow) (24.2)\n",
      "Requirement already satisfied: protobuf!=4.21.0,!=4.21.1,!=4.21.2,!=4.21.3,!=4.21.4,!=4.21.5,<6.0.0dev,>=3.20.3 in c:\\users\\gabri\\documents\\usp\\7-sem\\procimagem\\procimagemenv\\lib\\site-packages (from tensorflow) (5.29.5)\n",
      "Requirement already satisfied: requests<3,>=2.21.0 in c:\\users\\gabri\\documents\\usp\\7-sem\\procimagem\\procimagemenv\\lib\\site-packages (from tensorflow) (2.32.4)\n",
      "Requirement already satisfied: setuptools in c:\\users\\gabri\\documents\\usp\\7-sem\\procimagem\\procimagemenv\\lib\\site-packages (from tensorflow) (80.9.0)\n",
      "Requirement already satisfied: six>=1.12.0 in c:\\users\\gabri\\documents\\usp\\7-sem\\procimagem\\procimagemenv\\lib\\site-packages (from tensorflow) (1.17.0)\n",
      "Requirement already satisfied: termcolor>=1.1.0 in c:\\users\\gabri\\documents\\usp\\7-sem\\procimagem\\procimagemenv\\lib\\site-packages (from tensorflow) (3.1.0)\n",
      "Requirement already satisfied: typing-extensions>=3.6.6 in c:\\users\\gabri\\documents\\usp\\7-sem\\procimagem\\procimagemenv\\lib\\site-packages (from tensorflow) (4.14.0)\n",
      "Requirement already satisfied: wrapt>=1.11.0 in c:\\users\\gabri\\documents\\usp\\7-sem\\procimagem\\procimagemenv\\lib\\site-packages (from tensorflow) (1.17.2)\n",
      "Requirement already satisfied: grpcio<2.0,>=1.24.3 in c:\\users\\gabri\\documents\\usp\\7-sem\\procimagem\\procimagemenv\\lib\\site-packages (from tensorflow) (1.73.1)\n",
      "Requirement already satisfied: tensorboard~=2.19.0 in c:\\users\\gabri\\documents\\usp\\7-sem\\procimagem\\procimagemenv\\lib\\site-packages (from tensorflow) (2.19.0)\n",
      "Requirement already satisfied: keras>=3.5.0 in c:\\users\\gabri\\documents\\usp\\7-sem\\procimagem\\procimagemenv\\lib\\site-packages (from tensorflow) (3.10.0)\n",
      "Requirement already satisfied: numpy<2.2.0,>=1.26.0 in c:\\users\\gabri\\documents\\usp\\7-sem\\procimagem\\procimagemenv\\lib\\site-packages (from tensorflow) (2.1.3)\n",
      "Requirement already satisfied: h5py>=3.11.0 in c:\\users\\gabri\\documents\\usp\\7-sem\\procimagem\\procimagemenv\\lib\\site-packages (from tensorflow) (3.14.0)\n",
      "Requirement already satisfied: ml-dtypes<1.0.0,>=0.5.1 in c:\\users\\gabri\\documents\\usp\\7-sem\\procimagem\\procimagemenv\\lib\\site-packages (from tensorflow) (0.5.1)\n",
      "Requirement already satisfied: charset_normalizer<4,>=2 in c:\\users\\gabri\\documents\\usp\\7-sem\\procimagem\\procimagemenv\\lib\\site-packages (from requests<3,>=2.21.0->tensorflow) (3.4.2)\n",
      "Requirement already satisfied: idna<4,>=2.5 in c:\\users\\gabri\\documents\\usp\\7-sem\\procimagem\\procimagemenv\\lib\\site-packages (from requests<3,>=2.21.0->tensorflow) (3.10)\n",
      "Requirement already satisfied: urllib3<3,>=1.21.1 in c:\\users\\gabri\\documents\\usp\\7-sem\\procimagem\\procimagemenv\\lib\\site-packages (from requests<3,>=2.21.0->tensorflow) (2.5.0)\n",
      "Requirement already satisfied: certifi>=2017.4.17 in c:\\users\\gabri\\documents\\usp\\7-sem\\procimagem\\procimagemenv\\lib\\site-packages (from requests<3,>=2.21.0->tensorflow) (2025.6.15)\n",
      "Requirement already satisfied: markdown>=2.6.8 in c:\\users\\gabri\\documents\\usp\\7-sem\\procimagem\\procimagemenv\\lib\\site-packages (from tensorboard~=2.19.0->tensorflow) (3.8.2)\n",
      "Requirement already satisfied: tensorboard-data-server<0.8.0,>=0.7.0 in c:\\users\\gabri\\documents\\usp\\7-sem\\procimagem\\procimagemenv\\lib\\site-packages (from tensorboard~=2.19.0->tensorflow) (0.7.2)\n",
      "Requirement already satisfied: werkzeug>=1.0.1 in c:\\users\\gabri\\documents\\usp\\7-sem\\procimagem\\procimagemenv\\lib\\site-packages (from tensorboard~=2.19.0->tensorflow) (3.1.3)\n",
      "Requirement already satisfied: scipy>=1.8.0 in c:\\users\\gabri\\documents\\usp\\7-sem\\procimagem\\procimagemenv\\lib\\site-packages (from scikit-learn) (1.15.3)\n",
      "Requirement already satisfied: joblib>=1.2.0 in c:\\users\\gabri\\documents\\usp\\7-sem\\procimagem\\procimagemenv\\lib\\site-packages (from scikit-learn) (1.5.1)\n",
      "Requirement already satisfied: threadpoolctl>=3.1.0 in c:\\users\\gabri\\documents\\usp\\7-sem\\procimagem\\procimagemenv\\lib\\site-packages (from scikit-learn) (3.6.0)\n",
      "Requirement already satisfied: contourpy>=1.0.1 in c:\\users\\gabri\\documents\\usp\\7-sem\\procimagem\\procimagemenv\\lib\\site-packages (from matplotlib) (1.3.1)\n",
      "Requirement already satisfied: cycler>=0.10 in c:\\users\\gabri\\documents\\usp\\7-sem\\procimagem\\procimagemenv\\lib\\site-packages (from matplotlib) (0.12.1)\n",
      "Requirement already satisfied: fonttools>=4.22.0 in c:\\users\\gabri\\documents\\usp\\7-sem\\procimagem\\procimagemenv\\lib\\site-packages (from matplotlib) (4.56.0)\n",
      "Requirement already satisfied: kiwisolver>=1.3.1 in c:\\users\\gabri\\documents\\usp\\7-sem\\procimagem\\procimagemenv\\lib\\site-packages (from matplotlib) (1.4.8)\n",
      "Requirement already satisfied: pillow>=8 in c:\\users\\gabri\\documents\\usp\\7-sem\\procimagem\\procimagemenv\\lib\\site-packages (from matplotlib) (11.1.0)\n",
      "Requirement already satisfied: pyparsing>=2.3.1 in c:\\users\\gabri\\documents\\usp\\7-sem\\procimagem\\procimagemenv\\lib\\site-packages (from matplotlib) (3.2.1)\n",
      "Requirement already satisfied: python-dateutil>=2.7 in c:\\users\\gabri\\documents\\usp\\7-sem\\procimagem\\procimagemenv\\lib\\site-packages (from matplotlib) (2.9.0.post0)\n",
      "Collecting bleach (from kaggle)\n",
      "  Using cached bleach-6.2.0-py3-none-any.whl.metadata (30 kB)\n",
      "Collecting python-slugify (from kaggle)\n",
      "  Downloading python_slugify-8.0.4-py2.py3-none-any.whl.metadata (8.5 kB)\n",
      "Collecting text-unidecode (from kaggle)\n",
      "  Downloading text_unidecode-1.3-py2.py3-none-any.whl.metadata (2.4 kB)\n",
      "Collecting tqdm (from kaggle)\n",
      "  Downloading tqdm-4.67.1-py3-none-any.whl.metadata (57 kB)\n",
      "Collecting webencodings (from kaggle)\n",
      "  Using cached webencodings-0.5.1-py2.py3-none-any.whl.metadata (2.1 kB)\n",
      "Requirement already satisfied: wheel<1.0,>=0.23.0 in c:\\users\\gabri\\documents\\usp\\7-sem\\procimagem\\procimagemenv\\lib\\site-packages (from astunparse>=1.6.0->tensorflow) (0.45.1)\n",
      "Requirement already satisfied: rich in c:\\users\\gabri\\documents\\usp\\7-sem\\procimagem\\procimagemenv\\lib\\site-packages (from keras>=3.5.0->tensorflow) (14.0.0)\n",
      "Requirement already satisfied: namex in c:\\users\\gabri\\documents\\usp\\7-sem\\procimagem\\procimagemenv\\lib\\site-packages (from keras>=3.5.0->tensorflow) (0.1.0)\n",
      "Requirement already satisfied: optree in c:\\users\\gabri\\documents\\usp\\7-sem\\procimagem\\procimagemenv\\lib\\site-packages (from keras>=3.5.0->tensorflow) (0.16.0)\n",
      "Requirement already satisfied: MarkupSafe>=2.1.1 in c:\\users\\gabri\\documents\\usp\\7-sem\\procimagem\\procimagemenv\\lib\\site-packages (from werkzeug>=1.0.1->tensorboard~=2.19.0->tensorflow) (3.0.2)\n",
      "Requirement already satisfied: markdown-it-py>=2.2.0 in c:\\users\\gabri\\documents\\usp\\7-sem\\procimagem\\procimagemenv\\lib\\site-packages (from rich->keras>=3.5.0->tensorflow) (3.0.0)\n",
      "Requirement already satisfied: pygments<3.0.0,>=2.13.0 in c:\\users\\gabri\\documents\\usp\\7-sem\\procimagem\\procimagemenv\\lib\\site-packages (from rich->keras>=3.5.0->tensorflow) (2.19.1)\n",
      "Requirement already satisfied: mdurl~=0.1 in c:\\users\\gabri\\documents\\usp\\7-sem\\procimagem\\procimagemenv\\lib\\site-packages (from markdown-it-py>=2.2.0->rich->keras>=3.5.0->tensorflow) (0.1.2)\n",
      "Requirement already satisfied: colorama in c:\\users\\gabri\\documents\\usp\\7-sem\\procimagem\\procimagemenv\\lib\\site-packages (from tqdm->kaggle) (0.4.6)\n",
      "Downloading kaggle-1.7.4.5-py3-none-any.whl (181 kB)\n",
      "Using cached bleach-6.2.0-py3-none-any.whl (163 kB)\n",
      "Downloading python_slugify-8.0.4-py2.py3-none-any.whl (10 kB)\n",
      "Downloading text_unidecode-1.3-py2.py3-none-any.whl (78 kB)\n",
      "Downloading tqdm-4.67.1-py3-none-any.whl (78 kB)\n",
      "Using cached webencodings-0.5.1-py2.py3-none-any.whl (11 kB)\n",
      "Installing collected packages: webencodings, text-unidecode, tqdm, python-slugify, bleach, kaggle\n",
      "\n",
      "   ------------- -------------------------- 2/6 [tqdm]\n",
      "   ------------- -------------------------- 2/6 [tqdm]\n",
      "   ------------- -------------------------- 2/6 [tqdm]\n",
      "   ------------- -------------------------- 2/6 [tqdm]\n",
      "   -------------------- ------------------- 3/6 [python-slugify]\n",
      "   -------------------------- ------------- 4/6 [bleach]\n",
      "   -------------------------- ------------- 4/6 [bleach]\n",
      "   -------------------------- ------------- 4/6 [bleach]\n",
      "   -------------------------- ------------- 4/6 [bleach]\n",
      "   --------------------------------- ------ 5/6 [kaggle]\n",
      "   --------------------------------- ------ 5/6 [kaggle]\n",
      "   --------------------------------- ------ 5/6 [kaggle]\n",
      "   --------------------------------- ------ 5/6 [kaggle]\n",
      "   --------------------------------- ------ 5/6 [kaggle]\n",
      "   --------------------------------- ------ 5/6 [kaggle]\n",
      "   --------------------------------- ------ 5/6 [kaggle]\n",
      "   ---------------------------------------- 6/6 [kaggle]\n",
      "\n",
      "Successfully installed bleach-6.2.0 kaggle-1.7.4.5 python-slugify-8.0.4 text-unidecode-1.3 tqdm-4.67.1 webencodings-0.5.1\n",
      "Note: you may need to restart the kernel to use updated packages.\n"
     ]
    },
    {
     "name": "stderr",
     "output_type": "stream",
     "text": [
      "\n",
      "[notice] A new release of pip is available: 25.1 -> 25.1.1\n",
      "[notice] To update, run: python.exe -m pip install --upgrade pip\n"
     ]
    }
   ],
   "source": [
    "%pip install tensorflow opencv-python scikit-learn matplotlib kaggle"
   ]
  },
  {
   "cell_type": "markdown",
   "id": "dee76574",
   "metadata": {},
   "source": [
    "## 📁 Importação de Bibliotecas"
   ]
  },
  {
   "cell_type": "code",
   "execution_count": null,
   "id": "fda93145",
   "metadata": {},
   "outputs": [],
   "source": [
    "import os\n",
    "import cv2\n",
    "import numpy as np\n",
    "import matplotlib.pyplot as plt\n",
    "from tensorflow.keras.applications import VGG16\n",
    "from tensorflow.keras.models import Model\n",
    "from tensorflow.keras.layers import Dense, GlobalAveragePooling2D, Input\n",
    "from sklearn.model_selection import train_test_split\n",
    "from tensorflow.keras.utils import to_categorical\n",
    "from tensorflow.keras import layers\n",
    "import tensorflow as tf"
   ]
  },
  {
   "cell_type": "markdown",
   "id": "59e57abb",
   "metadata": {},
   "source": [
    "## 🗂️ Carregamento e Pré-processamento para Classificação"
   ]
  },
  {
   "cell_type": "code",
   "execution_count": 3,
   "id": "49c14802",
   "metadata": {},
   "outputs": [
    {
     "ename": "FileNotFoundError",
     "evalue": "[WinError 3] O sistema não pode encontrar o caminho especificado: 'Breast Ultrasound Images Dataset/Dataset_BUSI_with_GT\\\\benign'",
     "output_type": "error",
     "traceback": [
      "\u001b[31m---------------------------------------------------------------------------\u001b[39m",
      "\u001b[31mFileNotFoundError\u001b[39m                         Traceback (most recent call last)",
      "\u001b[36mCell\u001b[39m\u001b[36m \u001b[39m\u001b[32mIn[3]\u001b[39m\u001b[32m, line 10\u001b[39m\n\u001b[32m      8\u001b[39m \u001b[38;5;28;01mfor\u001b[39;00m idx, label \u001b[38;5;129;01min\u001b[39;00m \u001b[38;5;28menumerate\u001b[39m(classes):\n\u001b[32m      9\u001b[39m     folder = os.path.join(base_path, label)\n\u001b[32m---> \u001b[39m\u001b[32m10\u001b[39m     \u001b[38;5;28;01mfor\u001b[39;00m filename \u001b[38;5;129;01min\u001b[39;00m \u001b[43mos\u001b[49m\u001b[43m.\u001b[49m\u001b[43mlistdir\u001b[49m\u001b[43m(\u001b[49m\u001b[43mfolder\u001b[49m\u001b[43m)\u001b[49m:\n\u001b[32m     11\u001b[39m         \u001b[38;5;28;01mif\u001b[39;00m \u001b[33m'\u001b[39m\u001b[33mmask\u001b[39m\u001b[33m'\u001b[39m \u001b[38;5;129;01mnot\u001b[39;00m \u001b[38;5;129;01min\u001b[39;00m filename:\n\u001b[32m     12\u001b[39m             img_path = os.path.join(folder, filename)\n",
      "\u001b[31mFileNotFoundError\u001b[39m: [WinError 3] O sistema não pode encontrar o caminho especificado: 'Breast Ultrasound Images Dataset/Dataset_BUSI_with_GT\\\\benign'"
     ]
    }
   ],
   "source": [
    "base_path = 'Breast Ultrasound Images Dataset/Dataset_BUSI_with_GT'\n",
    "classes = ['benign', 'malignant', 'normal']\n",
    "img_size = 224\n",
    "\n",
    "X = []\n",
    "y = []\n",
    "\n",
    "for idx, label in enumerate(classes):\n",
    "    folder = os.path.join(base_path, label)\n",
    "    for filename in os.listdir(folder):\n",
    "        if 'mask' not in filename:\n",
    "            img_path = os.path.join(folder, filename)\n",
    "            img = cv2.imread(img_path)\n",
    "            img = cv2.resize(img, (img_size, img_size))\n",
    "            X.append(img)\n",
    "            y.append(idx)\n",
    "\n",
    "X = np.array(X) / 255.0\n",
    "y = to_categorical(y, num_classes=3)\n",
    "\n",
    "X_train, X_test, y_train, y_test = train_test_split(X, y, stratify=y, test_size=0.2, random_state=42)"
   ]
  },
  {
   "cell_type": "markdown",
   "id": "9b54d9a1",
   "metadata": {},
   "source": [
    "## 🧠 Modelo VGG-16 para Classificação"
   ]
  },
  {
   "cell_type": "code",
   "execution_count": null,
   "id": "d200e5a6",
   "metadata": {},
   "outputs": [],
   "source": [
    "vgg = VGG16(weights='imagenet', include_top=False, input_shape=(img_size, img_size, 3))\n",
    "for layer in vgg.layers:\n",
    "    layer.trainable = False\n",
    "\n",
    "x = vgg.output\n",
    "x = GlobalAveragePooling2D()(x)\n",
    "x = Dense(128, activation='relu')(x)\n",
    "predictions = Dense(3, activation='softmax')(x)\n",
    "\n",
    "model_class = Model(inputs=vgg.input, outputs=predictions)\n",
    "model_class.compile(optimizer='adam', loss='categorical_crossentropy', metrics=['accuracy'])\n",
    "model_class.summary()"
   ]
  },
  {
   "cell_type": "markdown",
   "id": "2322a6ad",
   "metadata": {},
   "source": [
    "## 📊 Treinamento do Modelo de Classificação"
   ]
  },
  {
   "cell_type": "code",
   "execution_count": null,
   "id": "3cb23f75",
   "metadata": {},
   "outputs": [],
   "source": [
    "model_class.fit(X_train, y_train, validation_data=(X_test, y_test), epochs=5, batch_size=16)"
   ]
  },
  {
   "cell_type": "markdown",
   "id": "81fa20a6",
   "metadata": {},
   "source": [
    "## 🖼️ Função para Carregar Imagens e Máscaras (Segmentação)"
   ]
  },
  {
   "cell_type": "code",
   "execution_count": null,
   "id": "db74f13f",
   "metadata": {},
   "outputs": [],
   "source": [
    "def load_images_and_masks(class_folder):\n",
    "    img_list = []\n",
    "    mask_list = []\n",
    "    folder = os.path.join(base_path, class_folder)\n",
    "    for fname in os.listdir(folder):\n",
    "        if 'mask' not in fname:\n",
    "            img_path = os.path.join(folder, fname)\n",
    "            mask_path = os.path.join(folder, fname.split('.')[0] + '_mask.png')\n",
    "            if not os.path.exists(mask_path): continue\n",
    "            img = cv2.imread(img_path)\n",
    "            img = cv2.resize(img, (128, 128))\n",
    "            img = img / 255.0\n",
    "            mask = cv2.imread(mask_path, cv2.IMREAD_GRAYSCALE)\n",
    "            mask = cv2.resize(mask, (128, 128))\n",
    "            mask = np.expand_dims(mask, axis=-1) / 255.0\n",
    "            img_list.append(img)\n",
    "            mask_list.append(mask)\n",
    "    return img_list, mask_list"
   ]
  },
  {
   "cell_type": "markdown",
   "id": "7466af57",
   "metadata": {},
   "source": [
    "## 📥 Carregamento dos Dados de Segmentação"
   ]
  },
  {
   "cell_type": "code",
   "execution_count": null,
   "id": "0c1a122b",
   "metadata": {},
   "outputs": [],
   "source": [
    "X_seg, y_seg = [], []\n",
    "for c in ['benign', 'malignant']:\n",
    "    imgs, masks = load_images_and_masks(c)\n",
    "    X_seg += imgs\n",
    "    y_seg += masks\n",
    "\n",
    "X_seg = np.array(X_seg)\n",
    "y_seg = np.array(y_seg)\n",
    "\n",
    "X_train_seg, X_val_seg, y_train_seg, y_val_seg = train_test_split(X_seg, y_seg, test_size=0.2, random_state=42)"
   ]
  },
  {
   "cell_type": "markdown",
   "id": "0ef50954",
   "metadata": {},
   "source": [
    "## 🧬 Modelo U-Net para Segmentação"
   ]
  },
  {
   "cell_type": "code",
   "execution_count": null,
   "id": "f6d3a5ee",
   "metadata": {},
   "outputs": [],
   "source": [
    "def unet_model(input_size=(128,128,3)):\n",
    "    inputs = Input(input_size)\n",
    "    c1 = layers.Conv2D(16, 3, activation='relu', padding='same')(inputs)\n",
    "    c1 = layers.Conv2D(16, 3, activation='relu', padding='same')(c1)\n",
    "    p1 = layers.MaxPooling2D()(c1)\n",
    "\n",
    "    c2 = layers.Conv2D(32, 3, activation='relu', padding='same')(p1)\n",
    "    c2 = layers.Conv2D(32, 3, activation='relu', padding='same')(c2)\n",
    "    p2 = layers.MaxPooling2D()(c2)\n",
    "\n",
    "    c3 = layers.Conv2D(64, 3, activation='relu', padding='same')(p2)\n",
    "    c3 = layers.Conv2D(64, 3, activation='relu', padding='same')(c3)\n",
    "\n",
    "    u1 = layers.UpSampling2D()(c3)\n",
    "    u1 = layers.Concatenate()([u1, c2])\n",
    "    c4 = layers.Conv2D(32, 3, activation='relu', padding='same')(u1)\n",
    "    c4 = layers.Conv2D(32, 3, activation='relu', padding='same')(c4)\n",
    "\n",
    "    u2 = layers.UpSampling2D()(c4)\n",
    "    u2 = layers.Concatenate()([u2, c1])\n",
    "    c5 = layers.Conv2D(16, 3, activation='relu', padding='same')(u2)\n",
    "    c5 = layers.Conv2D(16, 3, activation='relu', padding='same')(c5)\n",
    "\n",
    "    outputs = layers.Conv2D(1, 1, activation='sigmoid')(c5)\n",
    "\n",
    "    model = Model(inputs, outputs)\n",
    "    return model\n",
    "\n",
    "model_seg = unet_model()\n",
    "model_seg.compile(optimizer='adam', loss='binary_crossentropy', metrics=['accuracy'])\n",
    "model_seg.summary()"
   ]
  },
  {
   "cell_type": "markdown",
   "id": "2f5015c4",
   "metadata": {},
   "source": [
    "## 🧪 Treinamento do Modelo de Segmentação"
   ]
  },
  {
   "cell_type": "code",
   "execution_count": null,
   "id": "83d72da2",
   "metadata": {},
   "outputs": [],
   "source": [
    "model_seg.fit(X_train_seg, y_train_seg, validation_data=(X_val_seg, y_val_seg), epochs=10, batch_size=8)"
   ]
  },
  {
   "cell_type": "markdown",
   "id": "f1a83a56",
   "metadata": {},
   "source": [
    "## 🔍 Visualização de Resultados de Segmentação"
   ]
  },
  {
   "cell_type": "code",
   "execution_count": null,
   "id": "1f151643",
   "metadata": {},
   "outputs": [],
   "source": [
    "def show_results(model, X, y, index=0):\n",
    "    pred = model.predict(np.expand_dims(X[index], axis=0))[0]\n",
    "    fig, axs = plt.subplots(1, 3, figsize=(12, 4))\n",
    "    axs[0].imshow(X[index])\n",
    "    axs[0].set_title(\"Imagem\")\n",
    "    axs[1].imshow(y[index].squeeze(), cmap='gray')\n",
    "    axs[1].set_title(\"Máscara Real\")\n",
    "    axs[2].imshow(pred.squeeze(), cmap='gray')\n",
    "    axs[2].set_title(\"Máscara Predita\")\n",
    "    plt.show()\n",
    "\n",
    "show_results(model_seg, X_val_seg, y_val_seg, index=5)"
   ]
  }
 ],
 "metadata": {
  "kernelspec": {
   "display_name": "Python 3",
   "language": "python",
   "name": "python3"
  },
  "language_info": {
   "codemirror_mode": {
    "name": "ipython",
    "version": 3
   },
   "file_extension": ".py",
   "mimetype": "text/x-python",
   "name": "python",
   "nbconvert_exporter": "python",
   "pygments_lexer": "ipython3",
   "version": "3.12.2"
  }
 },
 "nbformat": 4,
 "nbformat_minor": 5
}
